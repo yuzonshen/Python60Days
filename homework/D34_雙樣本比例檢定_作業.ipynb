{
 "cells": [
  {
   "cell_type": "markdown",
   "metadata": {},
   "source": [
    "## 作業:\n",
    "某工廠想知道兩條不同的生產線的產品不良率是否有所不同，由兩條生產線中各抽取 300 個樣本，第一組有  75 個不良品，第二組有 30 個不良品，我們可以宣稱生產線所生產出的產品不良率不相同? (以 0.05 為顯著水準)?    \n",
    "(提示:透過課程投影片的步驟，需思考 𝐻_0、 𝐻_1 的寫法和範例不同唷。)   \n",
    "\n"
   ]
  },
  {
   "cell_type": "code",
   "execution_count": 3,
   "metadata": {
    "colab": {
     "base_uri": "https://localhost:8080/",
     "height": 34
    },
    "colab_type": "code",
    "executionInfo": {
     "elapsed": 1558,
     "status": "ok",
     "timestamp": 1578021044012,
     "user": {
      "displayName": "Mora chen",
      "photoUrl": "https://lh3.googleusercontent.com/a-/AAuE7mB40f7sDArbZ5_DYq02nNcnLD0Ryaf7AhsASSQeLQ=s64",
      "userId": "03171203089166907199"
     },
     "user_tz": -480
    },
    "id": "yz28_IgkYdBW",
    "outputId": "a12f486c-18b3-4fb5-d06c-f162aebd9444"
   },
   "outputs": [],
   "source": [
    "# library\n",
    "import matplotlib.pyplot as plt\n",
    "import numpy as np\n",
    "import pandas as pd\n",
    "from scipy import stats\n",
    "import math\n",
    "import statistics\n",
    "import seaborn as sns"
   ]
  },
  {
   "cell_type": "code",
   "execution_count": 1,
   "metadata": {},
   "outputs": [
    {
     "data": {
      "text/plain": [
       "'雙樣本比例檢定 \\nH0: P1 - P2 = 0\\nH1: P1 - P2 <> 0\\n'"
      ]
     },
     "execution_count": 1,
     "metadata": {},
     "output_type": "execute_result"
    }
   ],
   "source": [
    "'''雙樣本比例檢定 (雙尾檢定)\n",
    "H0: P1 - P2 = 0\n",
    "H1: P1 - P2 <> 0\n",
    "'''\n",
    "# P1: 生產線1 不良率 = 75/300 =0.25\n",
    "# P2: 生產線2 不良率 = 30/300 =0.1"
   ]
  },
  {
   "cell_type": "code",
   "execution_count": 13,
   "metadata": {},
   "outputs": [
    {
     "name": "stdout",
     "output_type": "stream",
     "text": [
      "Z= 4.834937784152282\n",
      "-4.834937784152282\n",
      "P-value= 1.3318728439003627e-06\n"
     ]
    }
   ],
   "source": [
    "## 透過算式傳統方法計算結果\n",
    "mu=0\n",
    "sigma=1\n",
    "#套Z公式 = ((0.25-0.1)-0)/ math.sqrt((105/600)*(0.825)*(1/300+1/300))\n",
    "Z = (0.15)/math.sqrt(0.175*0.825/300+0.175*0.825/300)\n",
    "print(\"Z=\",Z)\n",
    "\n",
    "#計算P-value = 𝛼機率 = P(Z>4.83) * 2\n",
    "'''\n",
    "x=(0.15)/math.sqrt(0.175*0.825/300+0.175*0.825/300)\n",
    "cumsum_probs =  stats.norm.cdf(x,mu, sigma)\n",
    "print(x)\n",
    "print('P-value=',(1-cumsum_probs)*2 )\n",
    "'''\n",
    "#計算P-value = 𝛼機率 = P(Z<-4.83) * 2\n",
    "x=(-1)*Z\n",
    "cumsum_probs =  stats.norm.cdf(x,mu, sigma)\n",
    "print(x)\n",
    "print('P-value=',cumsum_probs*2)\n",
    "\n",
    "#P-value < 0.05 =>結論顯著: 拒絕H0, 即兩生產線所生產出的產品不良率不相同"
   ]
  },
  {
   "cell_type": "code",
   "execution_count": null,
   "metadata": {},
   "outputs": [],
   "source": [
    "'''\n",
    "語法 for 雙樣本比例檢定\n",
    "statsmodels.stats.proportion.proportions_ztest(A, B, alternative='smaller')\n",
    "參數說明:\n",
    "A: 兩組開信的人數\n",
    "B: 兩組的總人數 *alternative: ‘two-sided’, ‘smaller’, ‘larger’ 分別代表 雙尾檢定，左尾檢定與右尾檢定\n",
    "輸出\n",
    "Z-test: 檢定量\n",
    "P-value: 這樣檢定量下的 p-value值\n",
    "'''"
   ]
  },
  {
   "cell_type": "code",
   "execution_count": 2,
   "metadata": {},
   "outputs": [
    {
     "data": {
      "text/plain": [
       "(4.834937784152282, 1.3318728439003627e-06)"
      ]
     },
     "execution_count": 2,
     "metadata": {},
     "output_type": "execute_result"
    }
   ],
   "source": [
    "import statsmodels.stats.proportion\n",
    "A = [75,30] # 不良品的個數\n",
    "B = [300,300] #各組實驗總個數\n",
    "statsmodels.stats.proportion.proportions_ztest(A, B, alternative='two-sided')\n",
    "#P-value < 0.05 =>結論顯著: 拒絕H0, 即兩生產線所生產出的產品不良率不相同"
   ]
  },
  {
   "cell_type": "code",
   "execution_count": null,
   "metadata": {},
   "outputs": [],
   "source": []
  }
 ],
 "metadata": {
  "colab": {
   "name": "Day33.YOLO 細節理解 - 網路輸出的後處理_HW.ipynb",
   "provenance": []
  },
  "kernelspec": {
   "display_name": "Python 3",
   "language": "python",
   "name": "python3"
  },
  "language_info": {
   "codemirror_mode": {
    "name": "ipython",
    "version": 3
   },
   "file_extension": ".py",
   "mimetype": "text/x-python",
   "name": "python",
   "nbconvert_exporter": "python",
   "pygments_lexer": "ipython3",
   "version": "3.7.1"
  }
 },
 "nbformat": 4,
 "nbformat_minor": 1
}
