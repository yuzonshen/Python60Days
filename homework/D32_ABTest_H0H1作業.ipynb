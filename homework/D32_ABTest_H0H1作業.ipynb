{
 "cells": [
  {
   "cell_type": "markdown",
   "metadata": {},
   "source": [
    "## 作業:\n",
    "今天學到 AB test中假設檢定的基本概念，最重要的就是如何將抽象情況數值化，\n",
    "並建立自已的 $H_0$ 與 $H_1$。\n",
    "透過作業來好好練習，概念懂了，後面幾堂課再帶大家運用 python 進行運算。\n"
   ]
  },
  {
   "cell_type": "markdown",
   "metadata": {},
   "source": [
    "### Q1: 吃減肥藥能在一個月內瘦超過十公斤，研究人員想推翻第四台廣告業者的說法，請試著寫出 $H_0$ 與 $H_1$ 。\n"
   ]
  },
  {
   "cell_type": "code",
   "execution_count": 4,
   "metadata": {},
   "outputs": [
    {
     "data": {
      "text/plain": [
       "'\\n假設檢定的 H0 與 H1 (H0 稱為虛無假設, H1 稱為對立假設)\\n你想證明的事情，需要放置在 H1，而非 H0。\\n因為我們透過邏輯判斷，推論出有足夠的證據證明 H0 不是真的，來呈現 H1「非常可能」對\\n\\nH0: 吃減肥藥能在一個月內瘦超過10公斤      \\nH1: 吃減肥藥在一個月內\"不能\"瘦超過10公斤  \\n'"
      ]
     },
     "execution_count": 4,
     "metadata": {},
     "output_type": "execute_result"
    }
   ],
   "source": [
    "#Q1: 吃減肥藥能在一個月內瘦超過十公斤，研究人員想推翻第四台廣告業者的說法，請試著寫出 $H_0$ 與 $H_1$\n",
    "'''\n",
    "假設檢定的 H0 與 H1 (H0 稱為虛無假設, H1 稱為對立假設)\n",
    "你想證明的事情，需要放置在 H1，而非 H0。\n",
    "因為我們透過邏輯判斷，推論出有足夠的證據證明 H0 不是真的，來呈現 H1「非常可能」對 \n",
    "(若p值 < 顯著水準0.05 =>結論顯著: 表示有足夠的證據, 拒絕H0, 表示接受H1, 反之, 表示\"沒有\"足夠的證據來拒絕H0, 表示接受H0, 而拒絕H1)\n",
    "(規則: H1不會有等號)\n",
    "\n",
    "H0: 吃減肥藥能在一個月內瘦超過10公斤      (x>=10)\n",
    "H1: 吃減肥藥在一個月內\"不能\"瘦超過10公斤  (x<10)\n",
    "'''"
   ]
  },
  {
   "cell_type": "markdown",
   "metadata": {},
   "source": [
    "### Q2: 一位速食店店長認為其品牌在市場之佔有率至多為12%，於是該店長進行一個市場調查，一共訪問了3000為消費者，其中有311位表示喜歡該品牌，請試著寫出 $H_0$ 與 $H_1$ 。\n"
   ]
  },
  {
   "cell_type": "code",
   "execution_count": 5,
   "metadata": {},
   "outputs": [
    {
     "data": {
      "text/plain": [
       "'\\nH0: 此速食店品牌市場佔有率>12%    \\nH1: 此速食店品牌市場佔有率<=12%   \\n311/3000 = 0.103667\\n'"
      ]
     },
     "execution_count": 5,
     "metadata": {},
     "output_type": "execute_result"
    }
   ],
   "source": [
    "#Q2: 一位速食店店長認為其品牌在市場之佔有率至多為12%，於是該店長進行一個市場調查，一共訪問了3000為消費者，其中有311位表示喜歡該品牌，請試著寫出 $H_0$ 與 $H_1$ 。\n",
    "'''\n",
    "H0: 此速食店品牌市場佔有率>=12%   (p>=12%)  \n",
    "H1: 此速食店品牌市場佔有率<12%    (p<12%)\n",
    "311/3000 = 0.103667\n",
    "'''"
   ]
  },
  {
   "cell_type": "code",
   "execution_count": null,
   "metadata": {},
   "outputs": [],
   "source": []
  }
 ],
 "metadata": {
  "colab": {
   "name": "Day33.YOLO 細節理解 - 網路輸出的後處理_HW.ipynb",
   "provenance": []
  },
  "kernelspec": {
   "display_name": "Python 3",
   "language": "python",
   "name": "python3"
  },
  "language_info": {
   "codemirror_mode": {
    "name": "ipython",
    "version": 3
   },
   "file_extension": ".py",
   "mimetype": "text/x-python",
   "name": "python",
   "nbconvert_exporter": "python",
   "pygments_lexer": "ipython3",
   "version": "3.7.1"
  }
 },
 "nbformat": 4,
 "nbformat_minor": 1
}
