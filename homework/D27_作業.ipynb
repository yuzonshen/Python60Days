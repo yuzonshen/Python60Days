{
 "cells": [
  {
   "cell_type": "markdown",
   "metadata": {
    "id": "H-z4L8J371GO"
   },
   "source": [
    "## 作業:\n",
    "今天學到不同統計量之間特性，  \n",
    "試著分析男生女生身高資料，  \n",
    "試著回答下面的問題:  \n",
    "Q1:試著用今天所教的內容，如何描述這兩組資料的樣態?    \n",
    "Q2: 請問男生和女生在平均身高上誰比較高?   \n",
    "Q3:請問第二題的答案和日常生活中觀察的一致嗎? 如果不一致，你覺得原因可能為何?    \n",
    "上述問題透過  python 語法進行運算，\n",
    "並將上述答案填寫在 (google 表單)[https://docs.google.com/forms/d/e/1FAIpQLSdDzwpeJl8YLPwZaW8pBZvtuXY9kIbbZLqxcXyzFaoraV5JEA/viewform ]\n",
    "![](作業資料圖檔.PNG)"
   ]
  },
  {
   "cell_type": "code",
   "execution_count": 1,
   "metadata": {
    "id": "yz28_IgkYdBW"
   },
   "outputs": [],
   "source": [
    "# library\n",
    "import matplotlib.pyplot as plt\n",
    "import numpy as np\n",
    "import pandas as pd\n",
    "from scipy import stats\n",
    "import math\n",
    "import statistics\n",
    "import seaborn as sns"
   ]
  },
  {
   "cell_type": "code",
   "execution_count": 2,
   "metadata": {
    "id": "3NtzuWtt71GU",
    "outputId": "be21c4eb-a6c2-4674-aadd-d378bafc0428"
   },
   "outputs": [],
   "source": [
    "## 輸入資料\n",
    "boys=[164, 176, 169, 169, 165, 175, 159, 151, 144, 160, 183, 165, 156, 170,\n",
    " 164, 173, 165, 163, 177, 171]\n",
    "girls=[169, 183, 170, 168, 182, 170, 173, 185, 151, 156,\n",
    "       162, 169, 162, 181, 159, 154, 167, 175, 170, 160]"
   ]
  },
  {
   "cell_type": "code",
   "execution_count": 21,
   "metadata": {
    "id": "uDM9AzrY71GW",
    "outputId": "f4e7ede3-fda9-4858-f122-af7c3b3f3ad4"
   },
   "outputs": [
    {
     "name": "stdout",
     "output_type": "stream",
     "text": [
      "男孩身高平均= 165.95\n",
      "女孩身高平均= 168.3\n",
      "np_median_boy= 165.0\n",
      "np_median_girl= 169.0\n",
      "男孩身高眾數= ModeResult(mode=array([165]), count=array([3]))\n",
      "男孩身高眾數= 165\n",
      "女孩身高眾數= ModeResult(mode=array([170]), count=array([3]))\n",
      "女孩身高眾數= 170\n",
      "39\n",
      "34\n",
      "男孩身高變異數= 84.89210526315789\n",
      "女孩身高變異數= 95.37894736842104\n",
      "男孩身高標準差= 9.213691185575838\n",
      "女孩身高標準差= 9.766214587465353\n",
      "男孩 90百分位數= 176.1\n",
      "男孩 50百分位數= 165.0\n",
      "男孩 20百分位數= 159.8\n",
      "女孩 90百分位數= 182.1\n",
      "女孩 50百分位數= 169.0\n",
      "女孩 20百分位數= 159.8\n",
      "男孩身高偏度= -0.47132127317376954\n",
      "男孩身高峰度= 0.19395882957876331\n",
      "女孩身高偏度= 0.05985321129365068\n",
      "女孩身高峰度= -0.8203607083948947\n"
     ]
    },
    {
     "data": {
      "image/png": "[encoded data removed]",
      "text/plain": [
       "<Figure size 432x288 with 1 Axes>"
      ]
     },
     "metadata": {
      "needs_background": "light"
     },
     "output_type": "display_data"
    },
    {
     "data": {
      "image/png": "[encoded data removed]",
      "text/plain": [
       "<Figure size 432x288 with 1 Axes>"
      ]
     },
     "metadata": {
      "needs_background": "light"
     },
     "output_type": "display_data"
    }
   ],
   "source": [
    "#Q1:試著用今天所教的內容，如何描述這兩組資料的樣態?\n",
    "#暗示:  分別計算男生和女生的統計量\n",
    "# 計算統計量_平均數的方法\n",
    "mean_boy=np.mean(boys)\n",
    "print(\"男孩身高平均=\",mean_boy)\n",
    "\n",
    "mean_girl = np.mean(girls)\n",
    "print(\"女孩身高平均=\",mean_girl)\n",
    "\n",
    "# 計算統計量_中位數的方法\n",
    "np_median_boy=np.median(boys,axis=None)\n",
    "print(\"np_median_boy=\",np_median_boy)\n",
    "\n",
    "np_median_girl=np.median(girls,axis=None)\n",
    "print(\"np_median_girl=\",np_median_girl)\n",
    "\n",
    "# 統計量的眾數，如果有多個眾數，取最小的值當眾數。\n",
    "mode_boy=stats.mode(boys,axis=None)\n",
    "print(\"男孩身高眾數=\",mode_boy)\n",
    "print(\"男孩身高眾數=\",mode_boy[0][0])\n",
    "\n",
    "mode_girl=stats.mode(girls,axis=None)\n",
    "print(\"女孩身高眾數=\",mode_girl)\n",
    "print(\"女孩身高眾數=\",mode_girl[0][0])\n",
    "\n",
    "#全距\n",
    "#rangeV=max(boys)-min(boys)\n",
    "def rangeV(x): \n",
    "  return(max(x)-min(x))\n",
    "    \n",
    "print(rangeV(boys))\n",
    "print(rangeV(girls))\n",
    "\n",
    "# 計算變異數的方法\n",
    "print(\"男孩身高變異數=\",np.var(boys,ddof=1))\n",
    "print(\"女孩身高變異數=\",np.var(girls,ddof=1))\n",
    "\n",
    "# 統計量_標準差的方法\n",
    "#ddof=1, 回傳 sample standard deviation 樣本標準差，分母(n-1)，無偏估計 , ( 即 標準差算法 是 /N-1 而不是/N  )\n",
    "std_boy=np.std(boys,ddof=1)\n",
    "print(\"男孩身高標準差=\",std_boy)\n",
    "std_girl=np.std(girls,ddof=1)\n",
    "print(\"女孩身高標準差=\",std_girl)\n",
    "\n",
    "# python 百分位數\n",
    "print(\"男孩 90百分位數=\",np.percentile(boys, 90))\n",
    "print(\"男孩 50百分位數=\",np.percentile(boys, 50))\n",
    "print(\"男孩 20百分位數=\",np.percentile(boys, 20))\n",
    "print(\"女孩 90百分位數=\",np.percentile(girls, 90))\n",
    "print(\"女孩 50百分位數=\",np.percentile(girls, 50))\n",
    "print(\"女孩 20百分位數=\",np.percentile(girls, 20))\n",
    "\n",
    "#計算偏度和峰度\n",
    "#男: 負偏度: 左偏度 (資料分布向右傾斜), 高峰度\n",
    "#女: 正偏度: 右偏度 (資料分布向左傾斜), 低峰度\n",
    "print(\"男孩身高偏度=\",stats.skew(boys))\n",
    "print(\"男孩身高峰度=\",stats.kurtosis(boys))\n",
    "\n",
    "print(\"女孩身高偏度=\",stats.skew(girls))\n",
    "print(\"女孩身高峰度=\",stats.kurtosis(girls))\n",
    "\n",
    "#最後，畫圖看分布\n",
    "plt.hist(boys,alpha=.4,bins=40)\n",
    "plt.title('boy,skewness={0},kurtosis={1}'.format(round(stats.skew(boys),2),round(stats.kurtosis(boys),2)))\n",
    "plt.axvline(x=mean_boy)\n",
    "plt.show()\n",
    "\n",
    "plt.hist(girls,alpha=.4,bins=40, color=sns.desaturate(\"indianred\", .8))\n",
    "plt.title('girl,skewness={0},kurtosis={1}'.format(round(stats.skew(girls),2),round(stats.kurtosis(girls),2)))\n",
    "plt.axvline(x=mean_girl, color=sns.desaturate(\"indianred\", .8))\n",
    "plt.show()\n"
   ]
  },
  {
   "cell_type": "code",
   "execution_count": 31,
   "metadata": {},
   "outputs": [
    {
     "data": {
      "image/png": "[encoded data removed]",
      "text/plain": [
       "<Figure size 432x288 with 1 Axes>"
      ]
     },
     "metadata": {
      "needs_background": "light"
     },
     "output_type": "display_data"
    }
   ],
   "source": [
    "plt.hist(boys,alpha=.4, bins=20)\n",
    "plt.hist(girls,alpha=.4, bins=20, color=sns.desaturate(\"indianred\", .8))\n",
    "plt.title(\"all samples\")\n",
    "plt.axvline(x=mean_boy)\n",
    "plt.axvline(x=mean_girl, color=sns.desaturate(\"indianred\", .8))\n",
    "plt.show()"
   ]
  },
  {
   "cell_type": "code",
   "execution_count": 3,
   "metadata": {
    "id": "xH_GNsC271GW",
    "outputId": "f4b4c46a-0d8b-421c-9c70-0ebf2aab0e31"
   },
   "outputs": [
    {
     "name": "stdout",
     "output_type": "stream",
     "text": [
      "男孩身高平均= 165.95\n",
      "女孩身高平均= 168.3\n"
     ]
    }
   ],
   "source": [
    "#Q2: 請問男生和女生在平均身高上誰比較高? \n",
    "# 計算統計量_平均數的方法\n",
    "mean_boy=np.mean(boys)\n",
    "print(\"男孩身高平均=\",mean_boy)\n",
    "\n",
    "mean_girl = np.mean(girls)\n",
    "print(\"女孩身高平均=\",mean_girl)"
   ]
  },
  {
   "cell_type": "code",
   "execution_count": 6,
   "metadata": {
    "id": "xAzZU0Dv71GX",
    "outputId": "e2017c09-70fc-41ab-99c0-9d41fe21629d"
   },
   "outputs": [],
   "source": [
    "#Q3:請問第二題的答案和日常生活中觀察的一致嗎? 如果不一致，你覺得原因可能為何?  \n",
    " =>抽樣的樣本數較少, 導致可能無法真實反映母體觀察狀況\n"
   ]
  },
  {
   "cell_type": "code",
   "execution_count": null,
   "metadata": {},
   "outputs": [],
   "source": []
  }
 ],
 "metadata": {
  "colab": {
   "collapsed_sections": [],
   "name": "作業.ipynb",
   "provenance": []
  },
  "kernelspec": {
   "display_name": "Python 3",
   "language": "python",
   "name": "python3"
  },
  "language_info": {
   "codemirror_mode": {
    "name": "ipython",
    "version": 3
   },
   "file_extension": ".py",
   "mimetype": "text/x-python",
   "name": "python",
   "nbconvert_exporter": "python",
   "pygments_lexer": "ipython3",
   "version": "3.7.1"
  }
 },
 "nbformat": 4,
 "nbformat_minor": 1
}
