{
 "cells": [
  {
   "cell_type": "markdown",
   "metadata": {},
   "source": [
    "## 作業:\n",
    "在課堂中，檢定 𝐻_0:𝜇≤0， 𝐻_1:𝜇>0 ，假設在 𝐻_0 為真下，分配為 N(0,1)， 𝐻_1 為真下，分配為 N(2,1)。      \n",
    "假設 𝑋 ̅>1，拒絕 𝐻_0。         \n",
    "如果拒絕域改變時，𝛼 和 𝛽 會怎樣變化，       \n",
    "![](sample mean 1.png)\n",
    "可以拿起一張紙，試著畫畫看，就能找到答案。"
   ]
  },
  {
   "cell_type": "markdown",
   "metadata": {},
   "source": [
    "### Q1: 假設 𝑋 ̅>2，拒絕 𝐻_0，𝛼 會變大/變小? 𝛽 會變大/變小? \n"
   ]
  },
  {
   "cell_type": "code",
   "execution_count": 1,
   "metadata": {},
   "outputs": [
    {
     "data": {
      "text/plain": [
       "'\\n你的答案\\n'"
      ]
     },
     "execution_count": 1,
     "metadata": {},
     "output_type": "execute_result"
    }
   ],
   "source": [
    "'''拒絕域改變時，𝛼 和 𝛽 會怎樣變化\n",
    "\n",
    "𝛼 =p(拒絕H0|H0為真)=p(𝑋 ̅> 2 |H0為真) : 𝛼 變小  (𝛼: 偽陽性)\n",
    "𝛽 =p(接受H0|H1為真)=p(𝑋 ̅< 2 |H1為真) : 𝛽 變大  (𝛽: 偽陰性)  => 影響 1-𝛽 : 檢定力 (power)\n",
    "\n",
    "'''"
   ]
  },
  {
   "cell_type": "markdown",
   "metadata": {},
   "source": [
    "### Q2: 假設 𝑋 ̅>0.2，拒絕 𝐻_0，𝛼 會變大/變小? 𝛽 會變大/變小? \n"
   ]
  },
  {
   "cell_type": "code",
   "execution_count": 2,
   "metadata": {},
   "outputs": [
    {
     "data": {
      "text/plain": [
       "'\\n你的答案\\n'"
      ]
     },
     "execution_count": 2,
     "metadata": {},
     "output_type": "execute_result"
    }
   ],
   "source": [
    "'''拒絕域改變時，𝛼 和 𝛽 會怎樣變化\n",
    "\n",
    "𝛼 =p(拒絕H0|H0為真)=p(𝑋 ̅> 0.2 |H0為真) : 𝛼 變大\n",
    "𝛽 =p(接受H0|H1為真)=p(𝑋 ̅< 0.2 |H1為真) : 𝛽 變小\n",
    "\n",
    "'''"
   ]
  },
  {
   "cell_type": "markdown",
   "metadata": {},
   "source": [
    "### Q3: 𝛼 和 𝛽  有關聯性?"
   ]
  },
  {
   "cell_type": "code",
   "execution_count": 3,
   "metadata": {},
   "outputs": [
    {
     "data": {
      "text/plain": [
       "'\\n你的答案\\n'"
      ]
     },
     "execution_count": 3,
     "metadata": {},
     "output_type": "execute_result"
    }
   ],
   "source": [
    "'''\n",
    "呈反比, 一增則一減, 需要Trade-Off, 所以篩檢值拒絕域的拿捏很重要, 會影響到檢測的敏銳程度(偽陽或偽陰性多寡), \n",
    "一般醫療篩檢會希望減少偽陰性的情形(即有感染者, 卻未驗出的情況)\n",
    "'''"
   ]
  },
  {
   "cell_type": "code",
   "execution_count": null,
   "metadata": {},
   "outputs": [],
   "source": [
    "''' 假設檢定的誤差類型:\n",
    "理想上，我們會希望正確率越高越好，從仕女喝茶的案例中，我們發現，當實驗的數量較少(8杯)時，檢定誤差也會比較高，\n",
    "發生檢定錯誤是難免的，但是我們希望誤差可以在我們可以容忍的範圍內，\n",
    "根據Test檢定結果(positive,negative) 與Truth真實結果(positive,negative)，我們可以區分成下面四個象限。\n",
    "四種結果: false positive 偽陽, True positive 正確, false negative 偽陰, True negative 正確。   \n",
    "\n",
    "α：Type I error/型一誤差，又稱偽陽性 false positive，\n",
    "H0 是對的，但是我們做了實驗後，卻拒絕H0，又稱顯著水準(significant level)，\n",
    "設定 α 值愈小，表示希望檢測時的誤判機率愈低(即希望檢定能愈準確)\n",
    "β：Type II error/型二誤差，又稱偽陰性 false negative，H0 是錯的，但是我們做了實驗後，卻沒有證據拒絕 H0。\n",
    "1- β：又稱檢定力，H0 是錯的，但是我們做了實驗後拒絕 H0 的能力。\n",
    "'''"
   ]
  }
 ],
 "metadata": {
  "colab": {
   "name": "Day33.YOLO 細節理解 - 網路輸出的後處理_HW.ipynb",
   "provenance": []
  },
  "kernelspec": {
   "display_name": "Python 3",
   "language": "python",
   "name": "python3"
  },
  "language_info": {
   "codemirror_mode": {
    "name": "ipython",
    "version": 3
   },
   "file_extension": ".py",
   "mimetype": "text/x-python",
   "name": "python",
   "nbconvert_exporter": "python",
   "pygments_lexer": "ipython3",
   "version": "3.7.1"
  }
 },
 "nbformat": 4,
 "nbformat_minor": 1
}
